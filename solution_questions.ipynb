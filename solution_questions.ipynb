{
 "cells": [
  {
   "cell_type": "markdown",
   "metadata": {},
   "source": [
    "## Load the Data"
   ]
  },
  {
   "cell_type": "code",
   "execution_count": 1,
   "metadata": {},
   "outputs": [
    {
     "name": "stdout",
     "output_type": "stream",
     "text": [
      "                        Date        Open        High         Low       Close  \\\n",
      "0  2024-12-30 00:00:00-05:00    9.140000    9.255000    8.780000    8.960000   \n",
      "1  2024-12-30 00:00:00-05:00   10.420000   10.466000   10.220000   10.400000   \n",
      "2  2024-12-30 00:00:00-05:00  121.750000  124.050003  121.080002  122.389999   \n",
      "3  2024-12-30 00:00:00-05:00  297.350006  299.700012  294.130005  297.329987   \n",
      "4  2024-12-30 00:00:00-05:00   45.000000   45.000000   45.000000   45.000000   \n",
      "\n",
      "       Volume  Dividends  Stock Splits        Brand_Name Ticker Industry_Tag  \\\n",
      "0  10714100.0        0.0           0.0           peloton   PTON      fitness   \n",
      "1   7919800.0        0.0           0.0          zoominfo     ZI   technology   \n",
      "2     66500.0        0.0           0.0            adidas  ADDYY      apparel   \n",
      "3   2392800.0        0.0           0.0  american express    AXP      finance   \n",
      "4       100.0        0.0           0.0              puma  PMMAF      apparel   \n",
      "\n",
      "   Country  Capital Gains  \n",
      "0      usa            NaN  \n",
      "1      usa            NaN  \n",
      "2  germany            NaN  \n",
      "3      usa            NaN  \n",
      "4  germany            NaN  \n"
     ]
    }
   ],
   "source": [
    "import pandas as pd\n",
    "data = pd.read_csv('World-Stock-Prices-Dataset.csv')\n",
    "print(data.head())"
   ]
  },
  {
   "cell_type": "markdown",
   "metadata": {},
   "source": [
    "## Inspect the Data"
   ]
  },
  {
   "cell_type": "code",
   "execution_count": 2,
   "metadata": {},
   "outputs": [
    {
     "name": "stdout",
     "output_type": "stream",
     "text": [
      "<class 'pandas.core.frame.DataFrame'>\n",
      "RangeIndex: 301149 entries, 0 to 301148\n",
      "Data columns (total 13 columns):\n",
      " #   Column         Non-Null Count   Dtype  \n",
      "---  ------         --------------   -----  \n",
      " 0   Date           301149 non-null  object \n",
      " 1   Open           301149 non-null  float64\n",
      " 2   High           301149 non-null  float64\n",
      " 3   Low            301149 non-null  float64\n",
      " 4   Close          301149 non-null  float64\n",
      " 5   Volume         301149 non-null  float64\n",
      " 6   Dividends      301149 non-null  float64\n",
      " 7   Stock Splits   301149 non-null  float64\n",
      " 8   Brand_Name     301149 non-null  object \n",
      " 9   Ticker         301149 non-null  object \n",
      " 10  Industry_Tag   301149 non-null  object \n",
      " 11  Country        301149 non-null  object \n",
      " 12  Capital Gains  2 non-null       float64\n",
      "dtypes: float64(8), object(5)\n",
      "memory usage: 29.9+ MB\n",
      "None\n",
      "Date                  0\n",
      "Open                  0\n",
      "High                  0\n",
      "Low                   0\n",
      "Close                 0\n",
      "Volume                0\n",
      "Dividends             0\n",
      "Stock Splits          0\n",
      "Brand_Name            0\n",
      "Ticker                0\n",
      "Industry_Tag          0\n",
      "Country               0\n",
      "Capital Gains    301147\n",
      "dtype: int64\n",
      "                Open           High            Low          Close  \\\n",
      "count  301149.000000  301149.000000  301149.000000  301149.000000   \n",
      "mean       73.206035      74.035102      72.359242      73.215975   \n",
      "std       138.121236     139.598298     136.555206     138.103979   \n",
      "min         0.196890       0.199922       0.192798       0.198861   \n",
      "25%        15.666667      15.882025      15.449383      15.665714   \n",
      "50%        34.500845      34.918643      34.088126      34.516884   \n",
      "75%        79.927360      80.657132      79.169998      79.928551   \n",
      "max      3445.580078    3463.070068    3370.000000    3427.610107   \n",
      "\n",
      "             Volume      Dividends   Stock Splits  Capital Gains  \n",
      "count  3.011490e+05  301149.000000  301149.000000            2.0  \n",
      "mean   2.294315e+07       0.003599       0.000901            0.0  \n",
      "std    8.665201e+07       0.069717       0.117141            0.0  \n",
      "min    0.000000e+00       0.000000       0.000000            0.0  \n",
      "25%    1.362400e+06       0.000000       0.000000            0.0  \n",
      "50%    4.582200e+06       0.000000       0.000000            0.0  \n",
      "75%    1.215040e+07       0.000000       0.000000            0.0  \n",
      "max    7.421641e+09      15.000000      50.000000            0.0  \n"
     ]
    }
   ],
   "source": [
    "print(data.info())\n",
    "print(data.isnull().sum())\n",
    "print(data.describe())"
   ]
  },
  {
   "cell_type": "markdown",
   "metadata": {},
   "source": [
    "1. Which stocks have the highest average closing price?"
   ]
  },
  {
   "cell_type": "code",
   "execution_count": 3,
   "metadata": {},
   "outputs": [
    {
     "name": "stdout",
     "output_type": "stream",
     "text": [
      "Brand_Name\n",
      "chipotle                     637.664758\n",
      "spotify                      199.412973\n",
      "costco                       169.109141\n",
      "coinbase                     160.874013\n",
      "netflix                      159.352637\n",
      "mastercard                   156.360913\n",
      "zoom video communications    151.971254\n",
      "adobe                        149.223389\n",
      "airbnb                       139.829491\n",
      "fedex                        124.311219\n",
      "Name: Close, dtype: float64\n"
     ]
    }
   ],
   "source": [
    "highest_avg_closing_price = data.groupby('Brand_Name')['Close'].mean().sort_values(ascending=False)\n",
    "print(highest_avg_closing_price.head(10))"
   ]
  },
  {
   "cell_type": "markdown",
   "metadata": {},
   "source": [
    "## 2. Which stocks have the most ups and downs in price?"
   ]
  },
  {
   "cell_type": "code",
   "execution_count": 4,
   "metadata": {},
   "outputs": [
    {
     "name": "stdout",
     "output_type": "stream",
     "text": [
      "Brand_Name\n",
      "chipotle                     17.299721\n",
      "puma                          9.561596\n",
      "zoom video communications     7.772880\n",
      "coinbase                      7.580145\n",
      "netflix                       6.652394\n",
      "tesla                         5.916729\n",
      "adobe                         5.287748\n",
      "spotify                       4.681261\n",
      "costco                        4.305046\n",
      "block                         3.693704\n",
      "Name: Price_Range, dtype: float64\n"
     ]
    }
   ],
   "source": [
    "data['Price_Range'] = data['High'] - data['Low']\n",
    "volatility = data.groupby('Brand_Name')['Price_Range'].std().sort_values(ascending=False)\n",
    "print(volatility.head(10))\n"
   ]
  },
  {
   "cell_type": "markdown",
   "metadata": {},
   "source": [
    "## 3. How do stock prices differ by industry?"
   ]
  },
  {
   "cell_type": "code",
   "execution_count": 5,
   "metadata": {},
   "outputs": [
    {
     "name": "stdout",
     "output_type": "stream",
     "text": [
      "Industry_Tag\n",
      "food                  330.269366\n",
      "music                 199.412973\n",
      "cryptocurrency        160.874013\n",
      "logistics             124.311219\n",
      "entertainment         109.478107\n",
      "finance                95.094659\n",
      "retail                 92.142468\n",
      "manufacturing          86.454537\n",
      "hospitality            85.059395\n",
      "financial services     81.800176\n",
      "healthcare             76.854898\n",
      "luxury goods           58.738559\n",
      "technology             58.118998\n",
      "automotive             56.849198\n",
      "food & beverage        48.116298\n",
      "consumer goods         46.131450\n",
      "e-commerce             45.376077\n",
      "apparel                40.609689\n",
      "fitness                38.318827\n",
      "social media           35.040361\n",
      "footwear               29.875300\n",
      "aviation               27.403690\n",
      "gaming                 10.940576\n",
      "Name: Close, dtype: float64\n"
     ]
    }
   ],
   "source": [
    "industry_prices = data.groupby('Industry_Tag')['Close'].mean().sort_values(ascending=False)\n",
    "print(industry_prices)\n"
   ]
  },
  {
   "cell_type": "markdown",
   "metadata": {},
   "source": [
    "## 4. Is there a link between trading volume and price changes?"
   ]
  },
  {
   "cell_type": "code",
   "execution_count": 6,
   "metadata": {},
   "outputs": [
    {
     "name": "stdout",
     "output_type": "stream",
     "text": [
      "Correlation between Volume and Price Change: 0.001205730240838557\n"
     ]
    }
   ],
   "source": [
    "data['Price_Change_Percent'] = (data['Close'] - data['Open']) / data['Open'] * 100\n",
    "correlation = data['Volume'].corr(data['Price_Change_Percent'])\n",
    "print(f\"Correlation between Volume and Price Change: {correlation}\")"
   ]
  },
  {
   "cell_type": "markdown",
   "metadata": {},
   "source": [
    "## 5. How have technology stocks changed over time?"
   ]
  },
  {
   "cell_type": "code",
   "execution_count": 7,
   "metadata": {},
   "outputs": [
    {
     "name": "stdout",
     "output_type": "stream",
     "text": [
      "Date\n",
      "2000-01-03 00:00:00-05:00     16.126461\n",
      "2000-01-04 00:00:00-05:00     15.291267\n",
      "2000-01-05 00:00:00-05:00     15.492854\n",
      "2000-01-06 00:00:00-05:00     15.261182\n",
      "2000-01-07 00:00:00-05:00     15.854166\n",
      "                                ...    \n",
      "2024-12-23 00:00:00-05:00    174.172306\n",
      "2024-12-24 00:00:00-05:00    175.311538\n",
      "2024-12-26 00:00:00-05:00    175.168460\n",
      "2024-12-27 00:00:00-05:00    173.093847\n",
      "2024-12-30 00:00:00-05:00    171.600767\n",
      "Name: Close, Length: 6287, dtype: float64\n"
     ]
    }
   ],
   "source": [
    "tech_stocks = data[data['Industry_Tag'] == 'technology']\n",
    "tech_trend = tech_stocks.groupby('Date')['Close'].mean()\n",
    "print(tech_trend)"
   ]
  },
  {
   "cell_type": "markdown",
   "metadata": {},
   "source": [
    "## 6. Which countries trade the most stocks?"
   ]
  },
  {
   "cell_type": "code",
   "execution_count": 8,
   "metadata": {},
   "outputs": [
    {
     "name": "stdout",
     "output_type": "stream",
     "text": [
      "Country\n",
      "usa            6.834144e+12\n",
      "canada         4.069556e+10\n",
      "netherlands    1.473837e+10\n",
      "japan          1.406281e+10\n",
      "switzerland    3.839945e+09\n",
      "germany        1.035597e+09\n",
      "france         7.900204e+08\n",
      "Name: Volume, dtype: float64\n"
     ]
    }
   ],
   "source": [
    "country_trading = data.groupby('Country')['Volume'].sum().sort_values(ascending=False)\n",
    "print(country_trading)"
   ]
  },
  {
   "cell_type": "markdown",
   "metadata": {},
   "source": [
    "## 7. Do dividends affect stock prices?"
   ]
  },
  {
   "cell_type": "code",
   "execution_count": 9,
   "metadata": {},
   "outputs": [
    {
     "name": "stdout",
     "output_type": "stream",
     "text": [
      "Average closing price with dividends: 70.10270793235144\n",
      "Average closing price without dividends: 73.2435608142125\n"
     ]
    }
   ],
   "source": [
    "with_dividends = data[data['Dividends'] > 0]['Close']\n",
    "without_dividends = data[data['Dividends'] == 0]['Close']\n",
    "print(f\"Average closing price with dividends: {with_dividends.mean()}\")\n",
    "print(f\"Average closing price without dividends: {without_dividends.mean()}\")"
   ]
  },
  {
   "cell_type": "markdown",
   "metadata": {},
   "source": [
    "## 8. What is the average trading volume for the top 10 stocks?"
   ]
  },
  {
   "cell_type": "code",
   "execution_count": 10,
   "metadata": {},
   "outputs": [
    {
     "name": "stdout",
     "output_type": "stream",
     "text": [
      "Brand_Name\n",
      "adobe                        5.143282e+06\n",
      "airbnb                       6.079107e+06\n",
      "chipotle                     1.043253e+06\n",
      "coinbase                     1.095625e+07\n",
      "costco                       3.281232e+06\n",
      "fedex                        2.147052e+06\n",
      "mastercard                   1.065248e+07\n",
      "netflix                      1.529734e+07\n",
      "spotify                      1.843854e+06\n",
      "zoom video communications    4.885597e+06\n",
      "Name: Volume, dtype: float64\n"
     ]
    }
   ],
   "source": [
    "top_10_stocks = highest_avg_closing_price.head(10).index\n",
    "avg_volume_top_10 = data[data['Brand_Name'].isin(top_10_stocks)].groupby('Brand_Name')['Volume'].mean()\n",
    "print(avg_volume_top_10)"
   ]
  },
  {
   "cell_type": "markdown",
   "metadata": {},
   "source": [
    "## 9. How do stocks in the same industry perform differently?"
   ]
  },
  {
   "cell_type": "code",
   "execution_count": 11,
   "metadata": {},
   "outputs": [
    {
     "name": "stdout",
     "output_type": "stream",
     "text": [
      "                                              mean     median         std\n",
      "Industry_Tag Brand_Name                                                  \n",
      "apparel      adidas                      69.826511  49.372910   47.392709\n",
      "             american eagle outfitters   11.972851  11.448223    5.984897\n",
      "             nike                        43.086653  22.253480   42.136406\n",
      "             puma                        49.460851  45.227180   27.403973\n",
      "automotive   bmw group                   65.532294  65.053474   20.158746\n",
      "...                                            ...        ...         ...\n",
      "technology   philips                     24.068449  22.261827    9.826423\n",
      "             salesforce / slack          92.829250  59.115000   88.180636\n",
      "             uber                        44.636949  41.504999   15.750700\n",
      "             zoom video communications  151.971254  84.660004  121.725067\n",
      "             zoominfo                    33.964049  33.910000   17.917786\n",
      "\n",
      "[61 rows x 3 columns]\n"
     ]
    }
   ],
   "source": [
    "industry_comparison = data.groupby(['Industry_Tag', 'Brand_Name'])['Close'].agg(['mean', 'median', 'std'])\n",
    "print(industry_comparison)"
   ]
  },
  {
   "cell_type": "markdown",
   "metadata": {},
   "source": [
    "## 10. What happens to stock prices after a stock split?"
   ]
  },
  {
   "cell_type": "code",
   "execution_count": 12,
   "metadata": {},
   "outputs": [
    {
     "name": "stdout",
     "output_type": "stream",
     "text": [
      "Date\n",
      "2000-01-14 00:00:00-05:00     33.956917\n",
      "2000-03-23 00:00:00-05:00     54.000790\n",
      "2000-04-18 00:00:00-04:00     22.822477\n",
      "2000-05-11 00:00:00-04:00     31.452337\n",
      "2000-06-12 00:00:00-04:00     24.509317\n",
      "                                ...    \n",
      "2022-08-25 00:00:00-04:00    296.070007\n",
      "2022-10-04 00:00:00-04:00     10.740000\n",
      "2024-04-01 00:00:00-04:00     93.371521\n",
      "2024-06-10 00:00:00-04:00    121.779999\n",
      "2024-06-26 00:00:00-04:00     65.860001\n",
      "Name: Close, Length: 65, dtype: float64\n"
     ]
    }
   ],
   "source": [
    "stock_splits = data[data['Stock Splits'] > 0]\n",
    "price_trend = stock_splits.groupby('Date')['Close'].mean()\n",
    "print(price_trend)"
   ]
  }
 ],
 "metadata": {
  "kernelspec": {
   "display_name": "Python 3",
   "language": "python",
   "name": "python3"
  },
  "language_info": {
   "codemirror_mode": {
    "name": "ipython",
    "version": 3
   },
   "file_extension": ".py",
   "mimetype": "text/x-python",
   "name": "python",
   "nbconvert_exporter": "python",
   "pygments_lexer": "ipython3",
   "version": "3.13.1"
  }
 },
 "nbformat": 4,
 "nbformat_minor": 2
}
